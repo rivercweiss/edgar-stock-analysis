{
 "cells": [
  {
   "cell_type": "code",
   "execution_count": null,
   "metadata": {},
   "outputs": [],
   "source": [
    "import yfinance as yf\n",
    "import numpy as np\n",
    "import csv"
   ]
  },
  {
   "cell_type": "code",
   "execution_count": null,
   "metadata": {},
   "outputs": [],
   "source": [
    "with open(\"tickers.csv\") as f:\n",
    "    tickers = f.read()"
   ]
  },
  {
   "cell_type": "code",
   "execution_count": null,
   "metadata": {},
   "outputs": [],
   "source": [
    "df5yr=yf.download(tickers, start='2017-06-01', end='2022-06-01', interval = \"1mo\", group_by=\"ticker\")\n",
    "df5yr = df5yr.xs('Close', level=1, axis=1)\n",
    "df5yr = df5yr.reset_index()\n",
    "df5yr = df5yr.dropna()\n",
    "#df.to_csv('out.csv')\n",
    "df5yr.head()\n",
    "df5yr = df5yr.bfill().ffill()[::df5yr.shape[0]-1]\n",
    "df5yr.head()\n",
    "df5yr=df5yr.drop(columns='Date')\n",
    "df5yr=df5yr.reset_index(drop=True)\n",
    "df5yr=df5yr.T\n",
    "df5yr[\"diff\"]=(df5yr[1]/df5yr[0])\n",
    "df5yr[\"5 Year CAGR\"]= (df5yr[\"diff\"].pow(1./5)-1)*100\n",
    "df5yr=df5yr[[\"5 Year CAGR\"]]\n",
    "df5yr.head()"
   ]
  },
  {
   "cell_type": "code",
   "execution_count": null,
   "metadata": {},
   "outputs": [],
   "source": [
    "df2yr=yf.download('SPY AAPL', start='2020-06-01', end='2022-06-01', interval = \"1mo\", group_by=\"ticker\")\n",
    "df2yr = df2yr.xs('Close', level=1, axis=1)\n",
    "df2yr = df2yr.reset_index()\n",
    "df2yr = df2yr.dropna()\n",
    "#df.to_csv('out.csv')\n",
    "df2yr.head()\n",
    "df2yr = df2yr.bfill().ffill()[::df2yr.shape[0]-1]\n",
    "df2yr.head()\n",
    "df2yr=df2yr.drop(columns='Date')\n",
    "df2yr=df2yr.reset_index(drop=True)\n",
    "df2yr=df2yr.T\n",
    "df2yr[\"diff\"]=(df2yr[1]/df2yr[0])\n",
    "df2yr[\"2 Year CAGR\"]= (df2yr[\"diff\"].pow(1./2)-1)*100\n",
    "df2yr=df2yr[[\"2 Year CAGR\"]]\n",
    "df2yr.head()"
   ]
  },
  {
   "cell_type": "code",
   "execution_count": null,
   "metadata": {},
   "outputs": [],
   "source": [
    "df10yr=yf.download('SPY AAPL', start='2012-06-01', end='2022-06-01', interval = \"1mo\", group_by=\"ticker\")\n",
    "df10yr = df10yr.xs('Close', level=1, axis=1)\n",
    "df10yr = df10yr.reset_index()\n",
    "df10yr = df10yr.dropna()\n",
    "#df.to_csv('out.csv')\n",
    "df10yr.head()\n",
    "df10yr = df10yr.bfill().ffill()[::df10yr.shape[0]-1]\n",
    "df10yr.head()\n",
    "df10yr=df10yr.drop(columns='Date')\n",
    "df10yr=df10yr.reset_index(drop=True)\n",
    "df10yr=df10yr.T\n",
    "df10yr[\"diff\"]=(df10yr[1]/df10yr[0])\n",
    "df10yr[\"10 Year CAGR\"]= (df10yr[\"diff\"].pow(1./10)-1)*100\n",
    "df10yr=df10yr[[\"10 Year CAGR\"]]\n",
    "df10yr.head()"
   ]
  },
  {
   "cell_type": "code",
   "execution_count": null,
   "metadata": {},
   "outputs": [],
   "source": [
    "df=df2yr.join(df5yr)\n",
    "df=df.join(df10yr)\n",
    "df[\"Average CAGR\"]=(df[\"10 Year CAGR\"]+df[\"5 Year CAGR\"]+df[\"2 Year CAGR\"])/3\n",
    "df=df.sort_values(by=\"Average CAGR\", ascending=False)\n",
    "df.head(50)"
   ]
  }
 ],
 "metadata": {
  "kernelspec": {
   "display_name": "Python 3.6.9 64-bit",
   "language": "python",
   "name": "python3"
  },
  "language_info": {
   "codemirror_mode": {
    "name": "ipython",
    "version": 2
   },
   "file_extension": ".py",
   "mimetype": "text/x-python",
   "name": "python",
   "nbconvert_exporter": "python",
   "pygments_lexer": "ipython2",
   "version": "3.6.9"
  },
  "orig_nbformat": 4,
  "vscode": {
   "interpreter": {
    "hash": "31f2aee4e71d21fbe5cf8b01ff0e069b9275f58929596ceb00d14d90e3e16cd6"
   }
  }
 },
 "nbformat": 4,
 "nbformat_minor": 2
}
