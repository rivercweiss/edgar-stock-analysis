{
 "cells": [
  {
   "cell_type": "code",
   "execution_count": 11,
   "metadata": {},
   "outputs": [
    {
     "data": {
      "text/html": [
       "<div>\n",
       "<style scoped>\n",
       "    .dataframe tbody tr th:only-of-type {\n",
       "        vertical-align: middle;\n",
       "    }\n",
       "\n",
       "    .dataframe tbody tr th {\n",
       "        vertical-align: top;\n",
       "    }\n",
       "\n",
       "    .dataframe thead th {\n",
       "        text-align: right;\n",
       "    }\n",
       "</style>\n",
       "<table border=\"1\" class=\"dataframe\">\n",
       "  <thead>\n",
       "    <tr style=\"text-align: right;\">\n",
       "      <th></th>\n",
       "      <th>Ticker</th>\n",
       "      <th>Name</th>\n",
       "      <th>Asset Class</th>\n",
       "      <th>Weight (%)</th>\n",
       "      <th>Price</th>\n",
       "      <th>Shares</th>\n",
       "      <th>Market Value</th>\n",
       "      <th>Notional Value</th>\n",
       "      <th>Sector</th>\n",
       "      <th>SEDOL</th>\n",
       "      <th>ISIN</th>\n",
       "      <th>Exchange</th>\n",
       "    </tr>\n",
       "  </thead>\n",
       "  <tbody>\n",
       "    <tr>\n",
       "      <th>0</th>\n",
       "      <td>AAPL</td>\n",
       "      <td>APPLE INC</td>\n",
       "      <td>Equity</td>\n",
       "      <td>3.72</td>\n",
       "      <td>229.28</td>\n",
       "      <td>1,462,169.00</td>\n",
       "      <td>335,246,108.32</td>\n",
       "      <td>335,246,108.32</td>\n",
       "      <td>Information Technology</td>\n",
       "      <td>2046251</td>\n",
       "      <td>US0378331005</td>\n",
       "      <td>NASDAQ</td>\n",
       "    </tr>\n",
       "    <tr>\n",
       "      <th>1</th>\n",
       "      <td>MSFT</td>\n",
       "      <td>MICROSOFT CORP</td>\n",
       "      <td>Equity</td>\n",
       "      <td>2.93</td>\n",
       "      <td>115.15</td>\n",
       "      <td>2,292,554.00</td>\n",
       "      <td>263,987,593.10</td>\n",
       "      <td>263,987,593.10</td>\n",
       "      <td>Information Technology</td>\n",
       "      <td>2588173</td>\n",
       "      <td>US5949181045</td>\n",
       "      <td>NASDAQ</td>\n",
       "    </tr>\n",
       "    <tr>\n",
       "      <th>2</th>\n",
       "      <td>AMZN</td>\n",
       "      <td>AMAZON COM INC</td>\n",
       "      <td>Equity</td>\n",
       "      <td>2.69</td>\n",
       "      <td>1,971.31</td>\n",
       "      <td>122,971.00</td>\n",
       "      <td>242,413,962.01</td>\n",
       "      <td>242,413,962.01</td>\n",
       "      <td>Consumer Discretionary</td>\n",
       "      <td>2000019</td>\n",
       "      <td>US0231351067</td>\n",
       "      <td>NASDAQ</td>\n",
       "    </tr>\n",
       "    <tr>\n",
       "      <th>3</th>\n",
       "      <td>BRKB</td>\n",
       "      <td>BERKSHIRE HATHAWAY INC CLASS B</td>\n",
       "      <td>Equity</td>\n",
       "      <td>1.40</td>\n",
       "      <td>215.29</td>\n",
       "      <td>585,969.00</td>\n",
       "      <td>126,153,266.01</td>\n",
       "      <td>126,153,266.01</td>\n",
       "      <td>Financials</td>\n",
       "      <td>2073390</td>\n",
       "      <td>US0846707026</td>\n",
       "      <td>New York Stock Exchange Inc.</td>\n",
       "    </tr>\n",
       "    <tr>\n",
       "      <th>4</th>\n",
       "      <td>JPM</td>\n",
       "      <td>JPMORGAN CHASE &amp; CO</td>\n",
       "      <td>Equity</td>\n",
       "      <td>1.28</td>\n",
       "      <td>113.97</td>\n",
       "      <td>1,011,631.00</td>\n",
       "      <td>115,295,585.07</td>\n",
       "      <td>115,295,585.07</td>\n",
       "      <td>Financials</td>\n",
       "      <td>2190385</td>\n",
       "      <td>US46625H1005</td>\n",
       "      <td>New York Stock Exchange Inc.</td>\n",
       "    </tr>\n",
       "  </tbody>\n",
       "</table>\n",
       "</div>"
      ],
      "text/plain": [
       "  Ticker                            Name Asset Class  Weight (%)     Price  \\\n",
       "0   AAPL                       APPLE INC      Equity        3.72    229.28   \n",
       "1   MSFT                  MICROSOFT CORP      Equity        2.93    115.15   \n",
       "2   AMZN                  AMAZON COM INC      Equity        2.69  1,971.31   \n",
       "3   BRKB  BERKSHIRE HATHAWAY INC CLASS B      Equity        1.40    215.29   \n",
       "4    JPM             JPMORGAN CHASE & CO      Equity        1.28    113.97   \n",
       "\n",
       "         Shares    Market Value  Notional Value                  Sector  \\\n",
       "0  1,462,169.00  335,246,108.32  335,246,108.32  Information Technology   \n",
       "1  2,292,554.00  263,987,593.10  263,987,593.10  Information Technology   \n",
       "2    122,971.00  242,413,962.01  242,413,962.01  Consumer Discretionary   \n",
       "3    585,969.00  126,153,266.01  126,153,266.01              Financials   \n",
       "4  1,011,631.00  115,295,585.07  115,295,585.07              Financials   \n",
       "\n",
       "     SEDOL          ISIN                      Exchange  \n",
       "0  2046251  US0378331005                        NASDAQ  \n",
       "1  2588173  US5949181045                        NASDAQ  \n",
       "2  2000019  US0231351067                        NASDAQ  \n",
       "3  2073390  US0846707026  New York Stock Exchange Inc.  \n",
       "4  2190385  US46625H1005  New York Stock Exchange Inc.  "
      ]
     },
     "execution_count": 11,
     "metadata": {},
     "output_type": "execute_result"
    }
   ],
   "source": [
    "import yfinance as yf\n",
    "import numpy as np\n",
    "import csv\n",
    "import pandas as pd\n",
    "\n",
    "df=pd.read_csv('russell_3000.csv')\n",
    "#df.rename(columns={'Ticker' :'Symbol'}, inplace=True )\n",
    "df.head()\n"
   ]
  },
  {
   "cell_type": "code",
   "execution_count": 13,
   "metadata": {},
   "outputs": [
    {
     "data": {
      "text/plain": [
       "3030"
      ]
     },
     "execution_count": 13,
     "metadata": {},
     "output_type": "execute_result"
    }
   ],
   "source": [
    "df=df[\"Ticker\"]\n",
    "df.head()\n",
    "df.size"
   ]
  },
  {
   "cell_type": "code",
   "execution_count": 14,
   "metadata": {},
   "outputs": [
    {
     "name": "stderr",
     "output_type": "stream",
     "text": [
      "/Users/river/Library/Python/2.7/lib/python/site-packages/ipykernel_launcher.py:2: FutureWarning: The signature of `Series.to_csv` was aligned to that of `DataFrame.to_csv`, and argument 'header' will change its default value from False to True: please pass an explicit value to suppress this warning.\n",
      "  \n",
      "/Users/river/Library/Python/2.7/lib/python/site-packages/ipykernel_launcher.py:4: FutureWarning: The signature of `Series.to_csv` was aligned to that of `DataFrame.to_csv`, and argument 'header' will change its default value from False to True: please pass an explicit value to suppress this warning.\n",
      "  after removing the cwd from sys.path.\n",
      "/Users/river/Library/Python/2.7/lib/python/site-packages/ipykernel_launcher.py:6: FutureWarning: The signature of `Series.to_csv` was aligned to that of `DataFrame.to_csv`, and argument 'header' will change its default value from False to True: please pass an explicit value to suppress this warning.\n",
      "  \n",
      "/Users/river/Library/Python/2.7/lib/python/site-packages/ipykernel_launcher.py:8: FutureWarning: The signature of `Series.to_csv` was aligned to that of `DataFrame.to_csv`, and argument 'header' will change its default value from False to True: please pass an explicit value to suppress this warning.\n",
      "  \n",
      "/Users/river/Library/Python/2.7/lib/python/site-packages/ipykernel_launcher.py:10: FutureWarning: The signature of `Series.to_csv` was aligned to that of `DataFrame.to_csv`, and argument 'header' will change its default value from False to True: please pass an explicit value to suppress this warning.\n",
      "  # Remove the CWD from sys.path while we load stuff.\n",
      "/Users/river/Library/Python/2.7/lib/python/site-packages/ipykernel_launcher.py:12: FutureWarning: The signature of `Series.to_csv` was aligned to that of `DataFrame.to_csv`, and argument 'header' will change its default value from False to True: please pass an explicit value to suppress this warning.\n",
      "  if sys.path[0] == '':\n"
     ]
    }
   ],
   "source": [
    "df1=df[0: 500]\n",
    "df1.to_csv(\"RussellTickers0to500.csv\", index=False)\n",
    "df2=df[500: 1000]\n",
    "df2.to_csv(\"RussellTickers500to1000.csv\", index=False)\n",
    "df3=df[1000: 1500]\n",
    "df3.to_csv(\"RussellTickers1000to1500.csv\", index=False)\n",
    "df4=df[1500: 2014]\n",
    "df4.to_csv(\"RussellTickers1500to2000.csv\", index=False)\n",
    "df5=df[2014: 2500]\n",
    "df5.to_csv(\"RussellTickers2000to2500.csv\", index=False)\n",
    "df6=df[2500: 3030]\n",
    "df6.to_csv(\"RussellTickers2500to3000.csv\", index=False)\n"
   ]
  },
  {
   "cell_type": "code",
   "execution_count": 15,
   "metadata": {},
   "outputs": [
    {
     "name": "stderr",
     "output_type": "stream",
     "text": [
      "/Users/river/Library/Python/2.7/lib/python/site-packages/ipykernel_launcher.py:1: FutureWarning: The signature of `Series.to_csv` was aligned to that of `DataFrame.to_csv`, and argument 'header' will change its default value from False to True: please pass an explicit value to suppress this warning.\n",
      "  \"\"\"Entry point for launching an IPython kernel.\n"
     ]
    }
   ],
   "source": [
    "df.to_csv(\"RussellTickers.csv\", index=False)"
   ]
  }
 ],
 "metadata": {
  "kernelspec": {
   "display_name": "Python 3.6.9 64-bit",
   "language": "python",
   "name": "python3"
  },
  "language_info": {
   "codemirror_mode": {
    "name": "ipython",
    "version": 2
   },
   "file_extension": ".py",
   "mimetype": "text/x-python",
   "name": "python",
   "nbconvert_exporter": "python",
   "pygments_lexer": "ipython2",
   "version": "3.6.9"
  },
  "orig_nbformat": 4,
  "vscode": {
   "interpreter": {
    "hash": "31f2aee4e71d21fbe5cf8b01ff0e069b9275f58929596ceb00d14d90e3e16cd6"
   }
  }
 },
 "nbformat": 4,
 "nbformat_minor": 2
}
